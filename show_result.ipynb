{
 "cells": [
  {
   "cell_type": "code",
   "execution_count": null,
   "metadata": {},
   "outputs": [],
   "source": [
    "import matplotlib.pyplot as plt\n",
    "import os\n",
    "import glob\n",
    "Acc1_dict = {'clean': [], 'brightness': [], 'contrast': [], 'defocus_blur': [], 'elastic_transform': [], 'fog': [], 'frost': [], 'gaussian_blur': [], 'gaussian_noise': [], 'glass_blur': [],\n",
    "             'impulse_noise': [], 'jpeg_compression': [], 'motion_blur': [], 'pixelate': [], 'saturate': [], 'shot_noise': [], 'snow': [], 'spatter': [], 'speckle_noise': [], 'zoom_blur': []}\n",
    "# paths = ['logs/debug/ResNet18/CIFAR10/L1/0.0001/42/0.5/20250109110709/test/100', 'logs/debug/ResNet18/CIFAR10/Hessian/0.0001/42/0.5/20250109131035/test/100', 'logs/debug/ResNet18/CIFAR10/None/0.0001/42/0.5/20250109151522/test/final_weight']\n",
    "paths = glob.glob('5step/debug/ResNet18/CIFAR10/*/0.0001/42/0.99/*/test/final_weight')\n",
    "paths.append('logs/debug/ResNet18/CIFAR10/None/0.0001/42/1/20250109151522/test/final_weight')\n",
    "\n",
    "for path in paths:\n",
    "    with open(os.path.join(path, 'total_result.txt')) as f:\n",
    "        lines = f.readlines()\n",
    "    # Acc1 = []\n",
    "    for line in lines:\n",
    "        line = line.split(' ')\n",
    "        # Add the accuracy to the corresponding list\n",
    "        Acc1_dict[line[1].strip('*')].append(float(line[line.index('Acc@1') + 1]))\n",
    "Acc1_dict = {k: v for k, v in Acc1_dict.items() if v}\n",
    "print(Acc1_dict)\n",
    "# Plot Accuracy and save figure\n",
    "# xlabel is Acc1_dict key and ylabel is Acc1_dict value\n",
    "x_labels = list(Acc1_dict.keys())\n",
    "markars = ['o', 's', 'D', 'v', '^', '<', '>', 'p', 'P', '*', 'h', 'H', '+', 'x', 'X', 'D', 'd', '|', '_']\n",
    "plt.figure(figsize=(12, 6))\n",
    "for i in range(len(Acc1_dict[list(Acc1_dict.keys())[0]])-1):\n",
    "    y_values = [Acc1_dict[key][i] for key in x_labels]\n",
    "    plt.plot(x_labels, y_values, marker=markars[i], label=(paths[i].split('/')[4]+'/'+paths[i].split('/')[7]+'/'+paths[i].split('/')[10]), linestyle='-')\n",
    "y_values = [Acc1_dict[key][i+1] for key in x_labels]\n",
    "plt.plot(x_labels, y_values, marker=markars[i+1], label=(paths[i+1].split('/')[4]+'/'+paths[i+1].split('/')[7]+'/'+paths[i+1].split('/')[10]), color='r', linestyle='-')\n",
    "\n",
    "plt.xlabel('Corruption Type')\n",
    "plt.ylabel('Accuracy')\n",
    "plt.title('Comparison of Acc@1 for Different Corruptions')\n",
    "plt.xticks(rotation=45, ha='right')\n",
    "plt.legend()\n",
    "plt.grid()\n",
    "plt.tight_layout()\n",
    "\n",
    "plt.savefig('corruption_comparison.png')\n",
    "plt.show()"
   ]
  },
  {
   "cell_type": "code",
   "execution_count": null,
   "metadata": {},
   "outputs": [],
   "source": []
  }
 ],
 "metadata": {
  "kernelspec": {
   "display_name": "vip",
   "language": "python",
   "name": "python3"
  },
  "language_info": {
   "codemirror_mode": {
    "name": "ipython",
    "version": 3
   },
   "file_extension": ".py",
   "mimetype": "text/x-python",
   "name": "python",
   "nbconvert_exporter": "python",
   "pygments_lexer": "ipython3",
   "version": "3.10.14"
  }
 },
 "nbformat": 4,
 "nbformat_minor": 2
}
